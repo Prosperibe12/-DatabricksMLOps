{
 "cells": [
  {
   "cell_type": "markdown",
   "metadata": {},
   "source": [
    "#### Feature Store\n",
    "- Get Gold data and save to Feature Store for modelling\n"
   ]
  },
  {
   "cell_type": "code",
   "execution_count": null,
   "metadata": {},
   "outputs": [],
   "source": [
    "# Import libraries\n",
    "from databricks.feature_engineering import FeatureEngineeringClient\n",
    "from pyspark.sql.window import Window\n",
    "from pyspark.sql.functions import row_number, monotonically_increasing_id"
   ]
  },
  {
   "cell_type": "code",
   "execution_count": null,
   "metadata": {},
   "outputs": [],
   "source": [
    "# get variables from enviroment\n",
    "dbutils.widgets.text(\"gold_data_table\", \"goldtable\")\n",
    "dbutils.widgets.text(\"feature_table_name\", \"occupancy_feature\")\n",
    "dbutils.widgets.text(\"catalog_name\", \"prod-bms\")\n",
    "dbutils.widgets.text(\"schema_name\", \"occupancy_project\")\n",
    "\n",
    "gold_table_name = dbutils.widgets.get(\"gold_data_table\")\n",
    "feature_table_name = dbutils.widgets.get(\"feature_table_name\")\n",
    "catalog_name = dbutils.widgets.get(\"catalog_name\")\n",
    "schema_name = dbutils.widgets.get(\"schema_name\")"
   ]
  },
  {
   "cell_type": "markdown",
   "metadata": {},
   "source": [
    "##### Feature Table"
   ]
  },
  {
   "cell_type": "code",
   "execution_count": null,
   "metadata": {},
   "outputs": [],
   "source": [
    "# Read gold data\n",
    "table_name = f\"`{catalog_name}`.{schema_name}.{gold_table_name}\"\n",
    "df = spark.read.table(table_name)\n",
    "\n",
    "# add index column for primary key\n",
    "window_spec = Window.orderBy(monotonically_increasing_id())\n",
    "df1 = df.withColumn(\"Id\", row_number().over(window_spec)).select(\"Id\", *df.columns)"
   ]
  },
  {
   "cell_type": "code",
   "execution_count": null,
   "metadata": {},
   "outputs": [],
   "source": [
    "# Instantiate the feature engineering client\n",
    "fe = FeatureEngineeringClient()\n",
    "\n",
    "# feature table name\n",
    "feature_table = f\"`{catalog_name}`.{schema_name}.{feature_table_name}\"\n",
    "\n",
    "# create feature table\n",
    "try:\n",
    "    if fe.get_table(name=feature_table):\n",
    "        fe.write_table(\n",
    "            name=feature_table,\n",
    "            df=df1,\n",
    "            mode=\"merge\"\n",
    "        )\n",
    "        print(f\"Write data operation to {feature_table} completed.\")\n",
    "except:\n",
    "    fe.create_table(\n",
    "        name=feature_table,\n",
    "        primary_keys=[\"Id\"],\n",
    "        df=df1,\n",
    "        description=\"Feature Table data for Occupancy Project\",\n",
    "        tags={\"source\": \"Gold\", \"format\": \"delta\"}\n",
    "    )\n",
    "    print(f\"Create table operatio completed for {feature_table}\")"
   ]
  }
 ],
 "metadata": {
  "kernelspec": {
   "display_name": "venv",
   "language": "python",
   "name": "python3"
  },
  "language_info": {
   "codemirror_mode": {
    "name": "ipython",
    "version": 3
   },
   "file_extension": ".py",
   "mimetype": "text/x-python",
   "name": "python",
   "nbconvert_exporter": "python",
   "pygments_lexer": "ipython3",
   "version": "3.12.6"
  }
 },
 "nbformat": 4,
 "nbformat_minor": 2
}
