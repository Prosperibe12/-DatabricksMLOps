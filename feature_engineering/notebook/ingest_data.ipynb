{
 "cells": [
  {
   "cell_type": "markdown",
   "metadata": {},
   "source": [
    "#### This Script ingest raw data from filestore and load into a silver delta table for processing.\n",
    " - Ingest Raw Data from file store \n",
    " - Write to Silver File"
   ]
  },
  {
   "cell_type": "code",
   "execution_count": null,
   "metadata": {},
   "outputs": [],
   "source": [
    "# Import required library\n",
    "import pandas as pd"
   ]
  },
  {
   "cell_type": "code",
   "execution_count": null,
   "metadata": {},
   "outputs": [],
   "source": [
    "# Get enviornment variables\n",
    "dbutils.widgets.text(\"file_path\", \"/dbfs/FileStore/RawData/\")\n",
    "dbutils.widgets.text(\"store_path\", \"dbfs:/FileStore/RawData/\")\n",
    "dbutils.widgets.text(\"catalog_name\", \"ai_ml_learning\")\n",
    "dbutils.widgets.text(\"schema_name\", \"occupancy_project\")\n",
    "\n",
    "store_path = dbutils.widgets.get(\"store_path\")\n",
    "file_path = dbutils.widgets.get(\"file_path\")\n",
    "catalog_name = dbutils.widgets.get(\"catalog_name\")\n",
    "schema_name = dbutils.widgets.get(\"schema_name\")"
   ]
  },
  {
   "cell_type": "code",
   "execution_count": null,
   "metadata": {},
   "outputs": [],
   "source": [
    "# Ingest data function\n",
    "def ingest_data(store_path, file_path):\n",
    "    \"\"\"\n",
    "    Ingest raw data from file store into a Delta table\n",
    "    \"\"\"\n",
    "    # get file names\n",
    "    try:\n",
    "        file_names = [files.name for files in dbutils.fs.ls(store_path)]\n",
    "    except Exception as e:\n",
    "        raise Exception(f\"Files does not exist: {e}\")\n",
    "\n",
    "    # read data into pandas dataframe\n",
    "    data = pd.concat([pd.read_csv(f\"{file_path}{name}\").reset_index(drop=True) for name in file_names])\n",
    "    return data"
   ]
  },
  {
   "cell_type": "code",
   "execution_count": null,
   "metadata": {},
   "outputs": [],
   "source": [
    "# save data to silver table\n",
    "def load_data(df, catalog_name, schema_name):\n",
    "    \"\"\"\n",
    "    Load ingested data into a Delta table\n",
    "    \"\"\"\n",
    "    try:\n",
    "        # convert dataframe to spark dataframe and save as delta table\n",
    "        spark.createDataFrame(df).write.mode(\"overwrite\").saveAsTable(f\"{catalog_name}.{schema_name}.silverTable\")\n",
    "    except Exception as e:\n",
    "        raise Exception(f\"Error loading data: {e}\")\n",
    "\n",
    "    return \"Data saved to table {catalog_name}.{schema_name}.silverTable\""
   ]
  },
  {
   "cell_type": "code",
   "execution_count": null,
   "metadata": {},
   "outputs": [],
   "source": [
    "# execute functions\n",
    "df = ingest_data(store_path, file_path)\n",
    "load_data(df, catalog_name, schema_name)"
   ]
  }
 ],
 "metadata": {
  "kernelspec": {
   "display_name": "venv",
   "language": "python",
   "name": "python3"
  },
  "language_info": {
   "codemirror_mode": {
    "name": "ipython",
    "version": 3
   },
   "file_extension": ".py",
   "mimetype": "text/x-python",
   "name": "python",
   "nbconvert_exporter": "python",
   "pygments_lexer": "ipython3",
   "version": "3.12.6"
  }
 },
 "nbformat": 4,
 "nbformat_minor": 2
}
