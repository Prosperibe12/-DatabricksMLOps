{
 "cells": [
  {
   "cell_type": "markdown",
   "metadata": {},
   "source": [
    "### Exploratory Data Analysis\n",
    " - Perform Exploratory data analysis\n",
    " - Filter outliers \n",
    " - Write to a delta table"
   ]
  },
  {
   "cell_type": "code",
   "execution_count": null,
   "metadata": {},
   "outputs": [],
   "source": [
    "# Import required libraries\n",
    "import pandas as pd\n",
    "import numpy as np\n",
    "import matplotlib.pyplot as plt\n",
    "import seaborn as sns"
   ]
  },
  {
   "cell_type": "code",
   "execution_count": null,
   "metadata": {},
   "outputs": [],
   "source": [
    "# get variables from environment\n",
    "dbutils.widgets.text(\"catalog_name\", \"bms\")\n",
    "dbutils.widgets.text(\"schema_name\", \"occupancy_project\")\n",
    "\n",
    "catalog_name = dbutils.widgets.get(\"catalog_name\")\n",
    "schema_name = dbutils.widgets.get(\"schema_name\")"
   ]
  },
  {
   "cell_type": "code",
   "execution_count": null,
   "metadata": {},
   "outputs": [],
   "source": [
    "# read silver table data\n",
    "df = spark.read.table(f\"{catalog_name}.{schema_name}.silverTable\")\n",
    "df = df.toPandas()\n",
    "df.head()"
   ]
  },
  {
   "cell_type": "code",
   "execution_count": null,
   "metadata": {},
   "outputs": [],
   "source": [
    "# explore general statistics of dataset\n",
    "df.describe()"
   ]
  },
  {
   "cell_type": "code",
   "execution_count": null,
   "metadata": {},
   "outputs": [],
   "source": [
    "# cast data types\n",
    "# define data type\n",
    "data_types = {\n",
    "    \"Temperature\": float,\n",
    "    \"Humidity\": float,\n",
    "    \"Light\": float,\n",
    "    \"CO2\": float,\n",
    "    \"HumidityRatio\": float,\n",
    "    \"Occupancy\": int\n",
    "}\n",
    "\n",
    "# apply to the dataframe\n",
    "df = df.astype(data_types)\n",
    "# convert the date data type\n",
    "df[\"date\"] = pd.to_datetime(df[\"date\"])"
   ]
  },
  {
   "cell_type": "code",
   "execution_count": null,
   "metadata": {},
   "outputs": [],
   "source": [
    "# dataset info\n",
    "df.info(), df.shape"
   ]
  },
  {
   "cell_type": "code",
   "execution_count": null,
   "metadata": {},
   "outputs": [],
   "source": [
    "# class distribution of the target label\n",
    "sns.catplot(data=df, x=\"Occupancy\", kind=\"count\")"
   ]
  },
  {
   "cell_type": "markdown",
   "metadata": {},
   "source": [
    "##### Distribution plots of data features"
   ]
  },
  {
   "cell_type": "code",
   "execution_count": null,
   "metadata": {},
   "outputs": [],
   "source": [
    "# distribution of features\n",
    "sns.displot(df, x=\"Temperature\", hue=\"Occupancy\")"
   ]
  },
  {
   "cell_type": "code",
   "execution_count": null,
   "metadata": {},
   "outputs": [],
   "source": [
    "# distribution plot for CO2 value\n",
    "sns.displot(data=df, x=\"CO2\", hue=\"Occupancy\", kind=\"kde\")"
   ]
  },
  {
   "cell_type": "code",
   "execution_count": null,
   "metadata": {},
   "outputs": [],
   "source": [
    "# distribution plot for Light value\n",
    "sns.displot(data=df, x=\"Light\", hue=\"Occupancy\", kind=\"kde\")"
   ]
  },
  {
   "cell_type": "code",
   "execution_count": null,
   "metadata": {},
   "outputs": [],
   "source": [
    "# distribution plot for Humidity value\n",
    "sns.displot(data=df, x=\"Humidity\", hue=\"Occupancy\", kind=\"kde\")"
   ]
  },
  {
   "cell_type": "code",
   "execution_count": null,
   "metadata": {},
   "outputs": [],
   "source": [
    "# distribution plot for Humidity value\n",
    "sns.displot(data=df, x=\"HumidityRatio\", hue=\"Occupancy\", kind=\"kde\")"
   ]
  },
  {
   "cell_type": "code",
   "execution_count": null,
   "metadata": {},
   "outputs": [],
   "source": [
    "# Box plot of CO2\n",
    "sns.catplot(data=df, x=\"Occupancy\", y=\"CO2\", kind=\"box\")"
   ]
  },
  {
   "cell_type": "code",
   "execution_count": null,
   "metadata": {},
   "outputs": [],
   "source": [
    "# box plot of Temperature\n",
    "sns.catplot(data=df, x=\"Occupancy\", y=\"Temperature\", kind=\"box\")"
   ]
  },
  {
   "cell_type": "code",
   "execution_count": null,
   "metadata": {},
   "outputs": [],
   "source": [
    "# box plot of Light\n",
    "sns.catplot(data=df, x=\"Occupancy\", y=\"Light\", kind=\"box\")"
   ]
  },
  {
   "cell_type": "code",
   "execution_count": null,
   "metadata": {},
   "outputs": [],
   "source": [
    "# box plot of Humidity\n",
    "sns.catplot(data=df, x=\"Occupancy\", y=\"Humidity\", kind=\"box\")"
   ]
  },
  {
   "cell_type": "code",
   "execution_count": null,
   "metadata": {},
   "outputs": [],
   "source": [
    "# boxplot of humidity ratio\n",
    "sns.catplot(data=df, x=\"Occupancy\", y=\"HumidityRatio\", kind=\"box\")"
   ]
  },
  {
   "cell_type": "code",
   "execution_count": null,
   "metadata": {},
   "outputs": [],
   "source": [
    "# feature correlation \n",
    "sns.heatmap(df.corr(), annot=True)"
   ]
  },
  {
   "cell_type": "markdown",
   "metadata": {},
   "source": [
    "#### Remove Outliers"
   ]
  },
  {
   "cell_type": "code",
   "execution_count": null,
   "metadata": {},
   "outputs": [],
   "source": [
    "# filter outliers\n",
    "# This method is not perfect, but it's a good starting point\n",
    "unoccupied_df = df[\n",
    "    (df[\"Temperature\"] < 22) & \n",
    "    (df[\"CO2\"] < 720) & \n",
    "    (df[\"Occupancy\"] == 0)\n",
    "][[\"Temperature\", \"Humidity\", \"Light\", \"CO2\", \"HumidityRatio\", \"Occupancy\"]]\n",
    "\n",
    "occupied_df = df[\n",
    "    (df[\"Temperature\"] > 21) & \n",
    "    (df[\"Temperature\"] < 23.1) & \n",
    "    (df[\"CO2\"] < 1550) & \n",
    "    (df[\"Occupancy\"] == 1)\n",
    "][[\"Temperature\", \"Humidity\", \"Light\", \"CO2\", \"HumidityRatio\", \"Occupancy\"]]\n",
    "combined_df = pd.concat([unoccupied_df, occupied_df])\n",
    "combined_df.reset_index(drop=True, inplace=True)"
   ]
  },
  {
   "cell_type": "code",
   "execution_count": null,
   "metadata": {},
   "outputs": [],
   "source": [
    "# Write data to delta gold table\n",
    "spark.createDataFrame(combined_df).write.format(\"delta\").mode(\"overwrite\").saveAsTable(f\"{catalog_name}.{schema_name}.goldtable\")"
   ]
  }
 ],
 "metadata": {
  "kernelspec": {
   "display_name": "venv",
   "language": "python",
   "name": "python3"
  },
  "language_info": {
   "codemirror_mode": {
    "name": "ipython",
    "version": 3
   },
   "file_extension": ".py",
   "mimetype": "text/x-python",
   "name": "python",
   "nbconvert_exporter": "python",
   "pygments_lexer": "ipython3",
   "version": "3.12.6"
  }
 },
 "nbformat": 4,
 "nbformat_minor": 2
}
