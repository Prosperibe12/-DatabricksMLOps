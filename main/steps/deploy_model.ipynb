{
 "cells": [
  {
   "cell_type": "markdown",
   "metadata": {},
   "source": [
    "##### Deploy Registered Model to Endpoint"
   ]
  },
  {
   "cell_type": "code",
   "execution_count": 10,
   "metadata": {},
   "outputs": [],
   "source": [
    "# import Libraries\n",
    "import os\n",
    "import sys\n",
    "\n",
    "# add the notebook directory to the path\n",
    "path = os.path.abspath(os.path.join(os.getcwd(), '../..'))\n",
    "sys.path.append(path)"
   ]
  },
  {
   "cell_type": "code",
   "execution_count": 11,
   "metadata": {},
   "outputs": [],
   "source": [
    "from deployment.model_endpoints.serving_endpoint import ModelDeployment"
   ]
  },
  {
   "cell_type": "markdown",
   "metadata": {},
   "source": [
    "##### Get Environment Variables"
   ]
  },
  {
   "cell_type": "code",
   "execution_count": null,
   "metadata": {},
   "outputs": [],
   "source": [
    "# Get enviornment variables\n",
    "dbutils.widgets.text(\"env\", \"dev\")\n",
    "dbutils.widgets.text(\"catalog_name\", \"devaiml\")\n",
    "dbutils.widgets.text(\"schema_name\", \"occupancy_project\")\n",
    "dbutils.widgets.text(\"model_name\", \"occupancy_model\")\n",
    "dbutils.widgets.text(\"serving_endpoint_name\", \"dev_occupancy\")\n",
    "dbutils.widgets.text(\"inference_table_name\", \"dev_occupancy_inference\")\n",
    "\n",
    "env = dbutils.widgets.get(\"env\")\n",
    "catalog_name = dbutils.widgets.get(\"catalog_name\")\n",
    "schema_name = dbutils.widgets.get(\"schema_name\")\n",
    "model_name = dbutils.widgets.get(\"model_name\")\n",
    "serving_endpoint_name = dbutils.widgets.get(\"serving_endpoint_name\")\n",
    "inference_table_name = dbutils.widgets.get(\"inference_table_name\")"
   ]
  },
  {
   "cell_type": "markdown",
   "metadata": {},
   "source": [
    "##### Deploy Model"
   ]
  },
  {
   "cell_type": "code",
   "execution_count": null,
   "metadata": {},
   "outputs": [],
   "source": [
    "if __name__ == \"__main__\":\n",
    "    model_name = f\"{catalog_name}.{schema_name}.{model_name}\"\n",
    "    model_alias = \"champion\"\n",
    "\n",
    "    deployment = ModelDeployment(\n",
    "        model_name, \n",
    "        inference_table_name, \n",
    "        model_alias,\n",
    "        serving_endpoint_name\n",
    "    )\n",
    "    deployment.create_endpoint()\n",
    "    print(\"Model is ready to serve.\")"
   ]
  }
 ],
 "metadata": {
  "kernelspec": {
   "display_name": "venv",
   "language": "python",
   "name": "python3"
  },
  "language_info": {
   "codemirror_mode": {
    "name": "ipython",
    "version": 3
   },
   "file_extension": ".py",
   "mimetype": "text/x-python",
   "name": "python",
   "nbconvert_exporter": "python",
   "pygments_lexer": "ipython3",
   "version": "3.12.6"
  }
 },
 "nbformat": 4,
 "nbformat_minor": 2
}
