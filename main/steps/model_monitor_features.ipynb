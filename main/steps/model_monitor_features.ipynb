{
 "cells": [
  {
   "cell_type": "markdown",
   "metadata": {},
   "source": [
    "#### Model Monitor Table\n",
    "##### Preprocess baseline feature table for model monitor creation"
   ]
  },
  {
   "cell_type": "code",
   "execution_count": null,
   "metadata": {},
   "outputs": [],
   "source": [
    "import os \n",
    "import sys \n",
    "from pyspark.sql.functions import lit, col \n",
    "from pyspark.sql.types import DoubleType\n",
    "\n",
    "\n",
    "path = os.path.abspath(os.path.join(os.getcwd(), \"../../\"))\n",
    "sys.path.append(path)"
   ]
  },
  {
   "cell_type": "markdown",
   "metadata": {},
   "source": [
    "#### Get Environment Variables"
   ]
  },
  {
   "cell_type": "code",
   "execution_count": null,
   "metadata": {},
   "outputs": [],
   "source": [
    "# Get enviornment variables\n",
    "dbutils.widgets.text(\"env\", \"dev\")\n",
    "dbutils.widgets.text(\"catalog_name\", \"devaiml\")\n",
    "dbutils.widgets.text(\"schema_name\", \"occupancy_project\")\n",
    "dbutils.widgets.text(\"source_table_name\", \"dev_occupancy_feature\")\n",
    "dbutils.widgets.text(\"monitor_table_name\", \"dev_occupancy_feature_monitor\")\n",
    "\n",
    "env = dbutils.widgets.get(\"env\")\n",
    "catalog_name = dbutils.widgets.get(\"catalog_name\")\n",
    "schema_name = dbutils.widgets.get(\"schema_name\")\n",
    "source_table_name = dbutils.widgets.get(\"source_table_name\")\n",
    "monitor_table_name = dbutils.widgets.get(\"monitor_table_name\")"
   ]
  },
  {
   "cell_type": "code",
   "execution_count": null,
   "metadata": {},
   "outputs": [],
   "source": [
    "# feature table\n",
    "feature_table = f\"{catalog_name}.{schema_name}.{source_table_name}\"\n",
    "monitor_table = f\"{catalog_name}.{schema_name}.{monitor_table_name}\"\n",
    "\n",
    "# Read the feature table and add model_id column and cast Occupancy column to DoubleType\n",
    "df = spark.table(feature_table) \\\n",
    "    .withColumn(\"model_id\", lit(0)) \\\n",
    "    .withColumn(\"Occupancy\", col(\"Occupancy\").cast(DoubleType())) \n",
    "\n",
    "# Write the feature table to the monitor table\n",
    "df \\\n",
    "    .write \\\n",
    "    .format(\"delta\") \\\n",
    "    .mode(\"overwrite\") \\\n",
    "    .option(\"overwriteSchema\", \"true\") \\\n",
    "    .option(\"delta.enableChangeDataFeed\", \"true\") \\\n",
    "    .saveAsTable(monitor_table)"
   ]
  }
 ],
 "metadata": {
  "kernelspec": {
   "display_name": "venv",
   "language": "python",
   "name": "python3"
  },
  "language_info": {
   "name": "python",
   "version": "3.12.6"
  }
 },
 "nbformat": 4,
 "nbformat_minor": 2
}
