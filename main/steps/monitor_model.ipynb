{
 "cells": [
  {
   "cell_type": "markdown",
   "metadata": {},
   "source": [
    "#### Monitor Deployed Model"
   ]
  },
  {
   "cell_type": "code",
   "execution_count": null,
   "metadata": {},
   "outputs": [],
   "source": [
    "# import Libraries\n",
    "import os\n",
    "import sys\n",
    "\n",
    "# add the notebook directory to the path\n",
    "path = os.path.abspath(os.path.join(os.getcwd(), \"../..\"))\n",
    "sys.path.append(path)"
   ]
  },
  {
   "cell_type": "code",
   "execution_count": null,
   "metadata": {},
   "outputs": [],
   "source": [
    "from deployment.model_monitoring import monitor"
   ]
  },
  {
   "cell_type": "markdown",
   "metadata": {},
   "source": [
    "#### Get Enviromental Variables"
   ]
  },
  {
   "cell_type": "code",
   "execution_count": null,
   "metadata": {},
   "outputs": [],
   "source": [
    "# Get enviornment variables\n",
    "dbutils.widgets.text(\"env\", \"dev\")\n",
    "dbutils.widgets.text(\"catalog_name\", \"devaiml\")\n",
    "dbutils.widgets.text(\"schema_name\", \"occupancy_project\")\n",
    "dbutils.widgets.text(\"feature_table_name\", \"devaiml.occupancy_project.dev_occupancy_feature_monitor\")\n",
    "dbutils.widgets.text(\"inference_table_name\", \"devaiml.occupancy_project.dev_occupancy_inference_payload_processed\")\n",
    "dbutils.widgets.text(\"assets_dir\", \"/Users/${workspace.current_user.userName}/occupancy_lakehouse_monitoring\") \n",
    "\n",
    "env = dbutils.widgets.get(\"env\")\n",
    "catalog_name = dbutils.widgets.get(\"catalog_name\")\n",
    "schema_name = dbutils.widgets.get(\"schema_name\")\n",
    "feature_table_name = dbutils.widgets.get(\"feature_table_name\")\n",
    "inference_table_name = dbutils.widgets.get(\"inference_table_name\")\n",
    "assets_dir = dbutils.widgets.get(\"assets_dir\")"
   ]
  },
  {
   "cell_type": "markdown",
   "metadata": {},
   "source": [
    "#### Create Monitor"
   ]
  },
  {
   "cell_type": "code",
   "execution_count": null,
   "metadata": {},
   "outputs": [],
   "source": [
    "if __name__ == \"__main__\":\n",
    "    print(\"Starting model monitoring...\")\n",
    "    monitoring = monitor.ModelMonitor(\n",
    "        catalog=catalog_name,\n",
    "        schema=schema_name,\n",
    "        baseline_table=feature_table_name,\n",
    "        inference_table=inference_table_name,\n",
    "        assets_dir=assets_dir,\n",
    "    )\n",
    "    monitoring.monitor()\n",
    "    print(\"Model monitoring completed.\")"
   ]
  }
 ],
 "metadata": {
  "kernelspec": {
   "display_name": "venv",
   "language": "python",
   "name": "python3"
  },
  "language_info": {
   "name": "python",
   "version": "3.12.6"
  }
 },
 "nbformat": 4,
 "nbformat_minor": 2
}
