{
 "cells": [
  {
   "cell_type": "markdown",
   "metadata": {},
   "source": [
    "#### Model Training "
   ]
  },
  {
   "cell_type": "code",
   "execution_count": null,
   "metadata": {},
   "outputs": [],
   "source": [
    "import sys\n",
    "import os\n",
    "\n",
    "# Dynamically add the project root to sys.path\n",
    "project_root = os.path.abspath(os.path.join(os.getcwd(), \"../..\"))\n",
    "sys.path.append(project_root)"
   ]
  },
  {
   "cell_type": "code",
   "execution_count": null,
   "metadata": {},
   "outputs": [],
   "source": [
    "# Import required libraries\n",
    "from main.ml_models.model_factory import ModelFactory"
   ]
  },
  {
   "cell_type": "markdown",
   "metadata": {},
   "source": [
    "##### Get Environement Variable"
   ]
  },
  {
   "cell_type": "code",
   "execution_count": null,
   "metadata": {},
   "outputs": [],
   "source": [
    "# Get enviornment variables\n",
    "dbutils.widgets.text(\"env\", \"dev\")\n",
    "dbutils.widgets.text(\"experiment_name\", \"dev-projectmlops\")\n",
    "dbutils.widgets.text(\"feature_table_name\",\"dev_occupancy_feature\")\n",
    "dbutils.widgets.text(\"catalog_name\", \"prod-bms\")\n",
    "dbutils.widgets.text(\"schema_name\", \"occupancy_project\")\n",
    "dbutils.widgets.text(\"validation_data_path\", \"dbfs:/FileStore/ValidationData/occupancy_mlops_validation_data\")\n",
    "\n",
    "env = dbutils.widgets.get(\"env\")\n",
    "experiment_name = dbutils.widgets.get(\"experiment_name\")\n",
    "feature_table_name = dbutils.widgets.get(\"feature_table_name\")\n",
    "catalog_name = dbutils.widgets.get(\"catalog_name\")\n",
    "schema_name = dbutils.widgets.get(\"schema_name\")\n",
    "validation_data_path = dbutils.widgets.get(\"validation_data_path\")"
   ]
  },
  {
   "cell_type": "markdown",
   "metadata": {},
   "source": [
    "##### Start Model Training"
   ]
  },
  {
   "cell_type": "code",
   "execution_count": null,
   "metadata": {},
   "outputs": [],
   "source": [
    "# Start model training\n",
    "\n",
    "if __name__ == \"__main__\":\n",
    "\n",
    "    # get username\n",
    "    username = dbutils.notebook.entry_point.getDbutils().notebook().getContext().tags().get(\"user\").get()\n",
    "\n",
    "    # define table name\n",
    "    table_name = f\"`{catalog_name}`.{schema_name}.{feature_table_name}\"\n",
    "\n",
    "    # Training algorithm type \n",
    "    model_type = \"DecisionTree\"\n",
    "\n",
    "    # define the run name\n",
    "    run_name = \"Occupancy_MLOps_Runs\"\n",
    "\n",
    "    # Instantiate model \n",
    "    factory = ModelFactory(table_name, experiment_name, validation_data_path, run_name, username)\n",
    "    \n",
    "    model = factory.create_model(model_type)\n",
    "\n",
    "    # start model training,hyper parameter tunning and return best run id \n",
    "    best_run_id = model.start()"
   ]
  },
  {
   "cell_type": "markdown",
   "metadata": {},
   "source": [
    "#### Set Best Run Id as Task Key"
   ]
  },
  {
   "cell_type": "code",
   "execution_count": null,
   "metadata": {},
   "outputs": [],
   "source": [
    "print(\"Best Run ID\", best_run_id)\n",
    "dbutils.jobs.taskValues.set(\"best_run_id\", best_run_id)"
   ]
  }
 ],
 "metadata": {
  "kernelspec": {
   "display_name": "venv",
   "language": "python",
   "name": "python3"
  },
  "language_info": {
   "codemirror_mode": {
    "name": "ipython",
    "version": 3
   },
   "file_extension": ".py",
   "mimetype": "text/x-python",
   "name": "python",
   "nbconvert_exporter": "python",
   "pygments_lexer": "ipython3",
   "version": "3.12.6"
  }
 },
 "nbformat": 4,
 "nbformat_minor": 2
}
