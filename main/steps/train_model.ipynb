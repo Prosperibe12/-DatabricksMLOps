{
 "cells": [
  {
   "cell_type": "markdown",
   "metadata": {},
   "source": [
    "#### Model Training "
   ]
  },
  {
   "cell_type": "code",
   "execution_count": null,
   "metadata": {},
   "outputs": [],
   "source": [
    "# Import required libraries\n",
    "import pandas as pd\n",
    "import matplotlib.pyplot as plt \n",
    "import numpy as np \n",
    "import seaborn as sns\n",
    "from databricks.feature_engineering import FeatureEngineeringClient, FeatureLookup \n",
    "from main.src import models"
   ]
  },
  {
   "cell_type": "markdown",
   "metadata": {},
   "source": [
    "##### Get Environement Variable"
   ]
  },
  {
   "cell_type": "code",
   "execution_count": null,
   "metadata": {},
   "outputs": [],
   "source": [
    "# Get enviornment variables\n",
    "dbutils.widgets.text(\"env\", \"dev\")\n",
    "dbutils.widgets.text(\"experiment_name\", \"dev-projectmlops\")\n",
    "dbutils.widgets.text(\"model_name\", \"dev.occupancy.projectmlops-model\")\n",
    "dbutils.widgets.text(\"feature_table_name\",\"dev_occupancy_feature\")\n",
    "dbutils.widgets.text(\"catalog_name\", \"ai_ml_learning\")\n",
    "dbutils.widgets.text(\"schema_name\", \"occupancy_project\")\n",
    "\n",
    "env = dbutils.widgets.get(\"env\")\n",
    "experiment_name = dbutils.widgets.get(\"experiment_name\")\n",
    "model_name = dbutils.widgets.get(\"model_name\")\n",
    "feature_table_name = dbutils.widgets.get(\"feature_table_name\")\n",
    "catalog_name = dbutils.widgets.get(\"catalog_name\")\n",
    "schema_name = dbutils.widgets.get(\"schema_name\")"
   ]
  },
  {
   "cell_type": "markdown",
   "metadata": {},
   "source": [
    "##### Define Training Algorithm"
   ]
  },
  {
   "cell_type": "code",
   "execution_count": null,
   "metadata": {},
   "outputs": [],
   "source": [
    "# Start model training\n",
    "\n",
    "# define table name\n",
    "table_name = f\"{catalog_name}.{schema_name}.{feature_table_name}\"\n",
    "# Training algorithm type \n",
    "model_type = \"DecisionTree\"\n",
    "# define the run name\n",
    "run_name = \"Occupancy_MLOps_Runs\"\n",
    "\n",
    "# Instantiate model \n",
    "model = models.ConcreteModelFactory(model_type, table_name, experiment_name, run_name)\n",
    "# start model training,hyper parameter tunning and return best run id \n",
    "best_run_id = model.start()"
   ]
  },
  {
   "cell_type": "markdown",
   "metadata": {},
   "source": []
  }
 ],
 "metadata": {
  "kernelspec": {
   "display_name": "venv",
   "language": "python",
   "name": "python3"
  },
  "language_info": {
   "name": "python",
   "version": "3.12.6"
  }
 },
 "nbformat": 4,
 "nbformat_minor": 2
}
